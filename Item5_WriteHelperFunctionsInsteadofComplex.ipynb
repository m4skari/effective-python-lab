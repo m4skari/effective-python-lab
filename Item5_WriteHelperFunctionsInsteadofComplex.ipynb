{
 "cells": [
  {
   "cell_type": "code",
   "execution_count": 3,
   "metadata": {},
   "outputs": [
    {
     "name": "stdout",
     "output_type": "stream",
     "text": [
      "{'red': ['5'], 'blue': ['0'], 'green': ['']}\n"
     ]
    }
   ],
   "source": [
    "from urllib.parse import parse_qs\n",
    "my_values = parse_qs('red=5&blue=0&green=',\n",
    "keep_blank_values=True)\n",
    "print(repr(my_values))"
   ]
  },
  {
   "cell_type": "code",
   "execution_count": 5,
   "metadata": {},
   "outputs": [
    {
     "name": "stdout",
     "output_type": "stream",
     "text": [
      "Red:  ['5']\n",
      "Green:  ['']\n",
      "Opacity:  None\n"
     ]
    }
   ],
   "source": [
    "print('Red: ', my_values.get('red'))\n",
    "print('Green: ', my_values.get('green'))\n",
    "print('Opacity: ', my_values.get('opacity'))"
   ]
  },
  {
   "cell_type": "code",
   "execution_count": 6,
   "metadata": {},
   "outputs": [
    {
     "name": "stdout",
     "output_type": "stream",
     "text": [
      "Red: '5'\n",
      "Green: 0\n",
      "Opacity: 0\n"
     ]
    }
   ],
   "source": [
    "# For query string 'red=5&blue=0&green='\n",
    "red = my_values.get('red', [''])[0] or 0\n",
    "green = my_values.get('green', [''])[0] or 0\n",
    "opacity = my_values.get('opacity', [''])[0] or 0\n",
    "print(f'Red: {red!r}')\n",
    "print(f'Green: {green!r}')\n",
    "print(f'Opacity: {opacity!r}')"
   ]
  },
  {
   "cell_type": "markdown",
   "metadata": {},
   "source": [
    "The red case works because the key is present in the my_values dictionary. The value is a list with one member: the string '5'. This string\n",
    "implicitly evaluates to True, so red is assigned to the first part of the\n",
    "or expression.\n",
    "\n",
    "The green case works because the value in the my_values dictionary is\n",
    "a list with one member: an empty string. The empty string implicitly\n",
    "evaluates to False, causing the or expression to evaluate to 0.\n",
    "\n",
    "The opacity case works because the value in the my_values dictionary\n",
    "is missing altogether. The behavior of the get method is to return its\n",
    "second argument if the key doesn’t exist in the dictionary (see Item 16:\n",
    "“Prefer get Over in and KeyError to Handle Missing Dictionary Keys”).\n",
    "The default value in this case is a list with one member: an empty\n",
    "string. When opacity isn’t found in the dictionary, this code does\n",
    "exactly the same thing as the green case"
   ]
  },
  {
   "cell_type": "code",
   "execution_count": 7,
   "metadata": {},
   "outputs": [],
   "source": [
    "red_str = my_values.get('red', [''])\n",
    "red = int(red_str[0]) if red_str[0] else 0"
   ]
  },
  {
   "cell_type": "code",
   "execution_count": 8,
   "metadata": {},
   "outputs": [],
   "source": [
    "green_str = my_values.get('green', [''])\n",
    "if green_str[0]:\n",
    "    green = int(green_str[0])\n",
    "else:\n",
    "    green = 0"
   ]
  },
  {
   "cell_type": "code",
   "execution_count": 10,
   "metadata": {},
   "outputs": [],
   "source": [
    "def get_first_int(values, key, default=0):\n",
    "    found = values.get(key, [''])\n",
    "    if found[0]:\n",
    "        return int(found[0])\n",
    "    return default"
   ]
  },
  {
   "cell_type": "markdown",
   "metadata": {},
   "source": [
    "The calling code is much clearer than the complex expression using\n",
    "or and the two-line version using the if/else expression:\n"
   ]
  },
  {
   "cell_type": "code",
   "execution_count": 11,
   "metadata": {},
   "outputs": [],
   "source": [
    "green = get_first_int(my_values, 'green')"
   ]
  },
  {
   "cell_type": "markdown",
   "metadata": {},
   "source": [
    "Things to Remember\n",
    "\n",
    "✦ Python’s syntax makes it easy to write single-line expressions that\n",
    "are overly complicated and difficult to read.\n",
    "\n",
    "✦ Move complex expressions into helper functions, especially if you\n",
    "need to use the same logic repeatedly.\n",
    "\n",
    "✦ An if/else expression provides a more readable alternative to using\n",
    "the Boolean operators or and and in expressions."
   ]
  },
  {
   "cell_type": "code",
   "execution_count": null,
   "metadata": {},
   "outputs": [],
   "source": []
  }
 ],
 "metadata": {
  "kernelspec": {
   "display_name": "Python 3",
   "language": "python",
   "name": "python3"
  },
  "language_info": {
   "codemirror_mode": {
    "name": "ipython",
    "version": 3
   },
   "file_extension": ".py",
   "mimetype": "text/x-python",
   "name": "python",
   "nbconvert_exporter": "python",
   "pygments_lexer": "ipython3",
   "version": "3.9.5"
  }
 },
 "nbformat": 4,
 "nbformat_minor": 2
}
