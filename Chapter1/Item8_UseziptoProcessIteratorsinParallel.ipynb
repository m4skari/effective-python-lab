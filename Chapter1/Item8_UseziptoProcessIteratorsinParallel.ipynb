{
 "cells": [
  {
   "cell_type": "code",
   "execution_count": 2,
   "metadata": {},
   "outputs": [
    {
     "name": "stdout",
     "output_type": "stream",
     "text": [
      "[7, 4, 5]\n"
     ]
    }
   ],
   "source": [
    "names = ['Cecilia', 'Lise', 'Marie']\n",
    "counts = [len(n) for n in names]\n",
    "print(counts)"
   ]
  },
  {
   "cell_type": "code",
   "execution_count": 3,
   "metadata": {},
   "outputs": [
    {
     "name": "stdout",
     "output_type": "stream",
     "text": [
      "Cecilia\n"
     ]
    }
   ],
   "source": [
    "longest_name = None\n",
    "max_count = 0\n",
    "for i in range(len(names)):\n",
    "    count = counts[i]\n",
    "    if count > max_count:\n",
    "        longest_name = names[i]\n",
    "        max_count = count\n",
    "print(longest_name)\n"
   ]
  },
  {
   "cell_type": "code",
   "execution_count": 4,
   "metadata": {},
   "outputs": [],
   "source": [
    "for i, name in enumerate(names):\n",
    "    count = counts[i]\n",
    "    if count > max_count:\n",
    "        longest_name = name\n",
    "        max_count = count"
   ]
  },
  {
   "cell_type": "markdown",
   "metadata": {},
   "source": [
    "To make this code clearer, Python provides the zip built-in function.\n",
    "zip wraps two or more iterators with a lazy generator. The zip generator yields tuples containing the next value from each iterator. These\n",
    "tuples can be unpacked directly within a for statement (see Item 6:\n",
    "“Prefer Multiple Assignment Unpacking Over Indexing”). The resulting\n",
    "code is much cleaner than the code for indexing into multiple lists:"
   ]
  },
  {
   "cell_type": "code",
   "execution_count": 5,
   "metadata": {},
   "outputs": [],
   "source": [
    "for name, count in zip(names, counts):\n",
    "    if count > max_count:\n",
    "        longest_name = name\n",
    "        max_count = count"
   ]
  },
  {
   "cell_type": "markdown",
   "metadata": {},
   "source": [
    "zip consumes the iterators it wraps one item at a time, which means\n",
    "it can be used with infinitely long inputs without risk of a program\n",
    "using too much memory and crashing."
   ]
  },
  {
   "cell_type": "markdown",
   "metadata": {},
   "source": [
    "However, beware of zip’s behavior when the input iterators are of\n",
    "different lengths. For example, say that I add another item to names\n",
    "above but forget to update counts. Running zip on the two input lists\n",
    "will have an unexpected result:"
   ]
  },
  {
   "cell_type": "code",
   "execution_count": 7,
   "metadata": {},
   "outputs": [
    {
     "name": "stdout",
     "output_type": "stream",
     "text": [
      "Cecilia\n",
      "Lise\n",
      "Marie\n"
     ]
    }
   ],
   "source": [
    "names.append('Rosalind')\n",
    "for name, count in zip(names, counts):\n",
    "    print(name)"
   ]
  },
  {
   "cell_type": "markdown",
   "metadata": {},
   "source": [
    "The new item for 'Rosalind' isn’t there. Why not? This is just how\n",
    "zip works. It keeps yielding tuples until any one of the wrapped iterators is exhausted. Its output is as long as its shortest input. This\n",
    "approach works fine when you know that the iterators are of the\n",
    "same length, which is often the case for derived lists created by list\n",
    "comprehensions."
   ]
  },
  {
   "cell_type": "code",
   "execution_count": 8,
   "metadata": {},
   "outputs": [
    {
     "name": "stdout",
     "output_type": "stream",
     "text": [
      "Cecilia: 7\n",
      "Lise: 4\n",
      "Marie: 5\n",
      "Rosalind: None\n"
     ]
    }
   ],
   "source": [
    "import itertools\n",
    "for name, count in itertools.zip_longest(names, counts):\n",
    "    print(f'{name}: {count}')"
   ]
  },
  {
   "cell_type": "markdown",
   "metadata": {},
   "source": [
    "zip_longest replaces missing values—the length of the string\n",
    "'Rosalind' in this case—with whatever fillvalue is passed to it, which\n",
    "defaults to None."
   ]
  },
  {
   "cell_type": "markdown",
   "metadata": {},
   "source": [
    "Things to Remember\n",
    "\n",
    "✦ The zip built-in function can be used to iterate over multiple iterators in parallel.\n",
    "\n",
    "✦ zip creates a lazy generator that produces tuples, so it can be used\n",
    "on infinitely long inputs.\n",
    "\n",
    "✦ zip truncates its output silently to the shortest iterator if you supply\n",
    "it with iterators of different lengths.\n",
    "\n",
    "✦ Use the zip_longest function from the itertools built-in module if you want to use zip on iterators of unequal lengths without\n",
    "truncation."
   ]
  },
  {
   "cell_type": "code",
   "execution_count": null,
   "metadata": {},
   "outputs": [],
   "source": []
  }
 ],
 "metadata": {
  "kernelspec": {
   "display_name": "Python 3",
   "language": "python",
   "name": "python3"
  },
  "language_info": {
   "codemirror_mode": {
    "name": "ipython",
    "version": 3
   },
   "file_extension": ".py",
   "mimetype": "text/x-python",
   "name": "python",
   "nbconvert_exporter": "python",
   "pygments_lexer": "ipython3",
   "version": "3.9.5"
  }
 },
 "nbformat": 4,
 "nbformat_minor": 2
}
