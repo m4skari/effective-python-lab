{
 "cells": [
  {
   "cell_type": "markdown",
   "metadata": {},
   "source": [
    "Whitespace\n",
    "\n",
    "\n",
    "In Python, whitespace is syntactically significant. Python programmers are especially sensitive to the effects of whitespace on code\n",
    "clarity. Follow these guidelines related to whitespace:\n",
    "\n",
    "■ Use spaces instead of tabs for indentation.\n",
    "\n",
    "■ Use four spaces for each level of syntactically significant indenting.\n",
    "\n",
    "■ Lines should be 79 characters in length or less.\n",
    "\n",
    "■ Continuations of long expressions onto additional lines should\n",
    "be indented by four extra spaces from their normal indentation\n",
    "level.\n",
    "\n",
    "■ In a file, functions and classes should be separated by two blank\n",
    "lines.\n",
    "\n",
    "■ In a class, methods should be separated by one blank line.\n",
    "\n",
    "■ In a dictionary, put no whitespace between each key and colon,\n",
    "and put a single space before the corresponding value if it fits on\n",
    "the same line.\n",
    "\n",
    "■ Put one—and only one—space before and after the = operator in a\n",
    "variable assignment.\n",
    "\n",
    "■ For type annotations, ensure that there is no separation between\n",
    "the variable name and the colon, and use a space before the type\n",
    "information."
   ]
  },
  {
   "cell_type": "markdown",
   "metadata": {},
   "source": [
    "Naming\n",
    "\n",
    "PEP 8 suggests unique styles of naming for different parts in the\n",
    "language. These conventions make it easy to distinguish which type\n",
    "corresponds to each name when reading code. Follow these guidelines\n",
    "related to naming:\n",
    "\n",
    "■ Functions, variables, and attributes should be in lowercase_\n",
    "underscore format.\n",
    "\n",
    "■ Protected instance attributes should be in _leading_underscore\n",
    "format.\n",
    "\n",
    "■ Private instance attributes should be in __double_leading_\n",
    "underscore format.\n",
    "\n",
    "■ Classes (including exceptions) should be in CapitalizedWord\n",
    "format.\n",
    "\n",
    "■ Module-level constants should be in ALL_CAPS format.\n",
    "\n",
    "■ Instance methods in classes should use self, which refers to the\n",
    "object, as the name of the first parameter.\n",
    "\n",
    "■ Class methods should use cls, which refers to the class, as the\n",
    "name of the first parameter."
   ]
  },
  {
   "cell_type": "markdown",
   "metadata": {},
   "source": [
    "Expressions and Statements\n",
    "\n",
    "The Zen of Python states: “There should be one—and preferably only\n",
    "one—obvious way to do it.” PEP 8 attempts to codify this style in its\n",
    "guidance for expressions and statements:\n",
    "\n",
    "■ Use inline negation (if a is not b) instead of negation of positive\n",
    "expressions (if not a is b).\n",
    "\n",
    "■ Don’t check for empty containers or sequences (like [] or '')\n",
    "by comparing the length to zero (if len(somelist) == 0). Use\n",
    "if not somelist and assume that empty values will implicitly\n",
    "evaluate to False.\n",
    "\n",
    "■ The same thing goes for non-empty containers or sequences (like\n",
    "[1] or 'hi'). The statement if somelist is implicitly True for nonempty values.\n",
    "\n",
    "■ Avoid single-line if statements, for and while loops, and except\n",
    "compound statements. Spread these over multiple lines for\n",
    "clarity.\n",
    "\n",
    "■ If you can’t fit an expression on one line, surround it with parentheses and add line breaks and indentation to make it easier to\n",
    "read.\n",
    "\n",
    "■ Prefer surrounding multiline expressions with parentheses over\n",
    "using the \\ line continuation character."
   ]
  },
  {
   "cell_type": "markdown",
   "metadata": {},
   "source": [
    "Imports\n",
    "PEP 8 suggests some guidelines for how to import modules and use\n",
    "them in your code:\n",
    "\n",
    "■ Always put import statements (including from x import y) at the\n",
    "top of a file.\n",
    "\n",
    "■ Always use absolute names for modules when importing them, not\n",
    "names relative to the current module’s own path. For example, to\n",
    "import the foo module from within the bar package, you should\n",
    "use from bar import foo, not just import foo.\n",
    "\n",
    "■ If you must do relative imports, use the explicit syntax\n",
    "from . import foo.\n",
    "\n",
    "■ Imports should be in sections in the following order: standard\n",
    "library modules, third-party modules, your own modules. Each\n",
    "subsection should have imports in alphabetical order."
   ]
  },
  {
   "cell_type": "markdown",
   "metadata": {},
   "source": []
  }
 ],
 "metadata": {
  "kernelspec": {
   "display_name": "Python 3",
   "language": "python",
   "name": "python3"
  },
  "language_info": {
   "codemirror_mode": {
    "name": "ipython",
    "version": 3
   },
   "file_extension": ".py",
   "mimetype": "text/x-python",
   "name": "python",
   "nbconvert_exporter": "python",
   "pygments_lexer": "ipython3",
   "version": "3.9.5"
  }
 },
 "nbformat": 4,
 "nbformat_minor": 2
}
